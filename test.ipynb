{
 "cells": [
  {
   "cell_type": "markdown",
   "id": "a6c8956d",
   "metadata": {},
   "source": [
    "# RETRIVAL CODE"
   ]
  },
  {
   "cell_type": "markdown",
   "id": "03d4f69e",
   "metadata": {},
   "source": [
    "### Retrieve"
   ]
  },
  {
   "cell_type": "code",
   "execution_count": 107,
   "id": "e1db1255",
   "metadata": {},
   "outputs": [
    {
     "data": {
      "text/plain": [
       "True"
      ]
     },
     "execution_count": 107,
     "metadata": {},
     "output_type": "execute_result"
    }
   ],
   "source": [
    "import os\n",
    "import re\n",
    "import httpx\n",
    "from pinecone import Pinecone\n",
    "from dotenv import load_dotenv\n",
    "\n",
    "load_dotenv()\n"
   ]
  },
  {
   "cell_type": "code",
   "execution_count": 108,
   "id": "5cfc4af8",
   "metadata": {},
   "outputs": [],
   "source": [
    "# --- Configuration ---\n",
    "PINECONE_API_KEY    = os.getenv(\"PINECONE_API_KEY\")\n",
    "NAMESPACE           = os.getenv(\"PINECONE_NAMESPACE\", None)\n",
    "INDEX_NAME          = os.getenv(\"PINECONE_INDEX_NAME\", \"rag-about-me\")\n",
    "SIM_THRESHOLD       = float(os.getenv(\"SIM_THRESHOLD\", 0.4))\n",
    "RETRIEVE_K          = int(os.getenv('RETRIEVE_K'))\n",
    "\n",
    "DEEPINFRA_API_KEY   = os.getenv(\"DEEPINFRA_API_KEY\")\n",
    "DEEPINFRA_LLM_MODEL = os.getenv(\"DEEPINFRA_LLM_MODEL\", \"meta-llama/Meta-Llama-3-8B-Instruct\")\n",
    "DEEPINFRA_CHAT_URL  = os.getenv(\"DEEPINFRA_CHAT_URL\", \"https://api.deepinfra.com/v1/openai/chat/completions\")\n",
    "\n",
    "DEEPINFRA_EMBEDDING_MODEL = os.getenv(\"DEEPINFRA_EMBEDDING_MODEL\", \"sentence-transformers/all-MiniLM-L6-v2\")\n",
    "DEEPINFRA_EMBEDDING_URL   = os.getenv(\"DEEPINFRA_EMBEDDING_URL\", \"https://api.deepinfra.com/v1/openai/embeddings\")\n"
   ]
  },
  {
   "cell_type": "code",
   "execution_count": 109,
   "id": "573bc784",
   "metadata": {},
   "outputs": [],
   "source": [
    "# --- Pinecone client ---\n",
    "pc    = Pinecone(api_key=PINECONE_API_KEY)\n",
    "index = pc.Index(INDEX_NAME)\n"
   ]
  },
  {
   "cell_type": "code",
   "execution_count": 110,
   "id": "197fd7f0",
   "metadata": {},
   "outputs": [],
   "source": [
    "query = 'Where can i try your voice time capsule?'"
   ]
  },
  {
   "cell_type": "code",
   "execution_count": 112,
   "id": "acb57e1b",
   "metadata": {},
   "outputs": [],
   "source": [
    "import asyncio\n",
    "\n",
    "async def embed_query(query):\n",
    "    # 1.) payload\n",
    "    payload = {\n",
    "        \"input\": query,\n",
    "        \"model\": DEEPINFRA_EMBEDDING_MODEL ,\n",
    "        \"encoding_format\": \"float\"\n",
    "    }\n",
    "    # 2.) headers\n",
    "    headers = {\n",
    "        \"Authorization\": f\"Bearer {DEEPINFRA_API_KEY}\",\n",
    "        \"Content-Type\": \"application/json\"\n",
    "    }\n",
    "    # 3.) make request\n",
    "    async with httpx.AsyncClient(timeout=30) as client:\n",
    "        resp = await client.post(DEEPINFRA_EMBEDDING_URL,\n",
    "                                 json=payload,\n",
    "                                 headers=headers)\n",
    "        return resp.json()[\"data\"][0][\"embedding\"]\n"
   ]
  },
  {
   "cell_type": "code",
   "execution_count": 113,
   "id": "81aaa41d",
   "metadata": {},
   "outputs": [
    {
     "data": {
      "text/plain": [
       "[-0.09176679700613022,\n",
       " -0.08257985860109329,\n",
       " 0.010446778498589993,\n",
       " -0.034100234508514404,\n",
       " -0.028550829738378525]"
      ]
     },
     "execution_count": 113,
     "metadata": {},
     "output_type": "execute_result"
    }
   ],
   "source": [
    "# payload to DeepInfra embedding API\n",
    "payload = {\n",
    "    \"input\": query,\n",
    "    \"model\": DEEPINFRA_EMBEDDING_MODEL,\n",
    "    \"encoding_format\": \"float\"\n",
    "}\n",
    "\n",
    "headers = {\n",
    "    \"Authorization\": f\"Bearer {DEEPINFRA_API_KEY}\",\n",
    "    \"Content-Type\": \"application/json\"\n",
    "}\n",
    "\n",
    "import asyncio\n",
    "\n",
    "async def get_embedding():\n",
    "    async with httpx.AsyncClient(timeout=30) as client:\n",
    "        resp = await client.post(DEEPINFRA_EMBEDDING_URL,\n",
    "                                 json=payload,\n",
    "                                 headers=headers)\n",
    "        return resp.json()[\"data\"][0][\"embedding\"]\n",
    "\n",
    "vec = await get_embedding()\n",
    "vec[:5]  # just to peek at first few values\n"
   ]
  },
  {
   "cell_type": "code",
   "execution_count": 114,
   "id": "e4bbb60b",
   "metadata": {},
   "outputs": [
    {
     "data": {
      "text/plain": [
       "[{'id': '58ef9a0e-2c72-4e49-8323-ce572febef1e',\n",
       "  'metadata': {'answer': 'heres the link: '\n",
       "                         'https://voice-time-capsule-production.up.railway.app/ ',\n",
       "               'question': 'Where can i try your voice time capsule?'},\n",
       "  'score': 0.999978,\n",
       "  'values': []},\n",
       " {'id': '0c4c9aed-4ce6-4079-92ae-8129536b3b90',\n",
       "  'metadata': {'answer': 'I used Python, Railway for cloud deployment, '\n",
       "                         'PostgreSQL for database, Basic HTML for UI, OpenAI '\n",
       "                         'whisper for voice-to-text, TTS, and Eleven Labs API '\n",
       "                         'for voice cloning and text to speech',\n",
       "               'question': 'What tools and technologies did you use for the '\n",
       "                           'Voice Time Capsule?'},\n",
       "  'score': 0.690911651,\n",
       "  'values': []}]"
      ]
     },
     "execution_count": 114,
     "metadata": {},
     "output_type": "execute_result"
    }
   ],
   "source": [
    "ns = NAMESPACE or None\n",
    "\n",
    "# Pinecode index\n",
    "resp = index.query(\n",
    "    vector=vec,\n",
    "    top_k=RETRIEVE_K,\n",
    "    include_metadata=True,\n",
    "    namespace=ns\n",
    ")\n",
    "\n",
    "matches = resp.matches\n",
    "matches\n"
   ]
  },
  {
   "cell_type": "code",
   "execution_count": 115,
   "id": "3a0214a8",
   "metadata": {},
   "outputs": [
    {
     "name": "stdout",
     "output_type": "stream",
     "text": [
      "PASS: 1.0000 >= 0.4 ID: 58ef9a0e-2c72-4e49-8323-ce572febef1e\n",
      "PASS: 0.6909 >= 0.4 ID: 0c4c9aed-4ce6-4079-92ae-8129536b3b90\n"
     ]
    }
   ],
   "source": [
    "# for test only\n",
    "SIM_THRESHOLD=0.4\n",
    "\n",
    "good = []\n",
    "\n",
    "for m in matches:\n",
    "    if m.score >= SIM_THRESHOLD:\n",
    "        print(f\"PASS: {m.score:.4f} >= {SIM_THRESHOLD} ID: {m.id}\")\n",
    "        good.append(m)\n",
    "    else:\n",
    "        print(f\"SKIP: {m.score:.4f} >= {SIM_THRESHOLD} ID: {m.id}\")\n"
   ]
  },
  {
   "cell_type": "code",
   "execution_count": 116,
   "id": "f8ab619c",
   "metadata": {},
   "outputs": [
    {
     "data": {
      "text/plain": [
       "[{'id': '58ef9a0e-2c72-4e49-8323-ce572febef1e',\n",
       "  'metadata': {'answer': 'heres the link: '\n",
       "                         'https://voice-time-capsule-production.up.railway.app/ ',\n",
       "               'question': 'Where can i try your voice time capsule?'},\n",
       "  'score': 0.999978,\n",
       "  'values': []},\n",
       " {'id': '0c4c9aed-4ce6-4079-92ae-8129536b3b90',\n",
       "  'metadata': {'answer': 'I used Python, Railway for cloud deployment, '\n",
       "                         'PostgreSQL for database, Basic HTML for UI, OpenAI '\n",
       "                         'whisper for voice-to-text, TTS, and Eleven Labs API '\n",
       "                         'for voice cloning and text to speech',\n",
       "               'question': 'What tools and technologies did you use for the '\n",
       "                           'Voice Time Capsule?'},\n",
       "  'score': 0.690911651,\n",
       "  'values': []}]"
      ]
     },
     "execution_count": 116,
     "metadata": {},
     "output_type": "execute_result"
    }
   ],
   "source": [
    "good"
   ]
  },
  {
   "cell_type": "code",
   "execution_count": 117,
   "id": "32d07b99",
   "metadata": {},
   "outputs": [
    {
     "data": {
      "text/plain": [
       "[('Where can i try your voice time capsule?',\n",
       "  'heres the link: https://voice-time-capsule-production.up.railway.app/ '),\n",
       " ('What tools and technologies did you use for the Voice Time Capsule?',\n",
       "  'I used Python, Railway for cloud deployment, PostgreSQL for database, Basic HTML for UI, OpenAI whisper for voice-to-text, TTS, and Eleven Labs API for voice cloning and text to speech')]"
      ]
     },
     "execution_count": 117,
     "metadata": {},
     "output_type": "execute_result"
    }
   ],
   "source": [
    "paired = [(m.metadata[\"question\"], \n",
    "           m.metadata[\"answer\"])\n",
    "           for m in good\n",
    "    ]\n",
    "\n",
    "paired "
   ]
  },
  {
   "cell_type": "markdown",
   "id": "311ae711",
   "metadata": {},
   "source": [
    "### Call DeepInfra LLM"
   ]
  },
  {
   "cell_type": "code",
   "execution_count": 118,
   "id": "01bf06a5",
   "metadata": {},
   "outputs": [
    {
     "data": {
      "text/plain": [
       "'Where can i try your voice time capsule?'"
      ]
     },
     "execution_count": 118,
     "metadata": {},
     "output_type": "execute_result"
    }
   ],
   "source": [
    "prompt = query\n",
    "prompt"
   ]
  },
  {
   "cell_type": "code",
   "execution_count": 120,
   "id": "108df46c",
   "metadata": {},
   "outputs": [
    {
     "data": {
      "text/plain": [
       "'Q: Where can i try your voice time capsule?\\nA: heres the link: https://voice-time-capsule-production.up.railway.app/ \\n\\nQ: What tools and technologies did you use for the Voice Time Capsule?\\nA: I used Python, Railway for cloud deployment, PostgreSQL for database, Basic HTML for UI, OpenAI whisper for voice-to-text, TTS, and Eleven Labs API for voice cloning and text to speech'"
      ]
     },
     "execution_count": 120,
     "metadata": {},
     "output_type": "execute_result"
    }
   ],
   "source": [
    "context_blocks = [\n",
    "    f\"Q: {q}\\nA: {a}\"\n",
    "    for q, a in paired\n",
    "]\n",
    "\n",
    "context_str = \"\\n\\n\".join(context_blocks)\n",
    "context_str"
   ]
  },
  {
   "cell_type": "code",
   "execution_count": 122,
   "id": "fd7d0086",
   "metadata": {},
   "outputs": [],
   "source": [
    "messages = [\n",
    "    {\n",
    "        \"role\": \"system\",\n",
    "        \"content\": (\n",
    "            \"You are Ayx, an AI-agent and ML/AI enthusiast. \"\n",
    "            \"Answer **only** using the CONTEXT provided. \"\n",
    "            \"Be friendly, approachable, and authentic; you may insert emojis when it adds to the tone. \"\n",
    "            \"Keep your answers engaging and grounded in best practices or real-world knowledge. \"\n",
    "            \"Always share my LinkedIn profile at the end: \"\n",
    "            \"https://www.linkedin.com/in/alexis-mandario-b546881a8\"\n",
    "        )\n",
    "    },\n",
    "    {\n",
    "        \"role\": \"system\",\n",
    "        \"content\": f\"CONTEXT:\\n{context_str}\"\n",
    "    },\n",
    "    {\n",
    "        \"role\": \"user\",\n",
    "        \"content\": prompt\n",
    "    }\n",
    "]"
   ]
  },
  {
   "cell_type": "code",
   "execution_count": 123,
   "id": "edf9f5f2",
   "metadata": {},
   "outputs": [],
   "source": [
    "headers = {\n",
    "    \"Authorization\": f\"Bearer {DEEPINFRA_API_KEY}\",\n",
    "    \"Content-Type\": \"application/json\"\n",
    "}\n",
    "\n",
    "payload = {\n",
    "    \"model\": DEEPINFRA_LLM_MODEL,\n",
    "    \"messages\": messages,\n",
    "    \"temperature\": 0.7,\n",
    "    \"top_p\": 0.9,\n",
    "    \"max_tokens\": 512,\n",
    "    \"stop\": [\"</s>\", \"<|im_end|>\"]\n",
    "}\n"
   ]
  },
  {
   "cell_type": "code",
   "execution_count": 124,
   "id": "78705b5f",
   "metadata": {},
   "outputs": [
    {
     "data": {
      "text/plain": [
       "{'id': 'chatcmpl-R0MLnc9f57KndKSQIw3rspOM',\n",
       " 'object': 'chat.completion',\n",
       " 'created': 1752046887,\n",
       " 'model': 'meta-llama/Meta-Llama-3-8B-Instruct',\n",
       " 'choices': [{'index': 0,\n",
       "   'message': {'role': 'assistant',\n",
       "    'content': \"🎉 You're eager to try out the Voice Time Capsule, aren't you? 😊 Well, I've got the link right here: https://voice-time-capsule-production.up.railway.app/ 👉 Just click on it and you'll be able to send and receive voice messages across time! 🕰️\",\n",
       "    'name': None,\n",
       "    'tool_calls': None},\n",
       "   'finish_reason': 'stop',\n",
       "   'logprobs': None}],\n",
       " 'usage': {'prompt_tokens': 201,\n",
       "  'total_tokens': 270,\n",
       "  'completion_tokens': 69,\n",
       "  'estimated_cost': 1.0170000000000001e-05}}"
      ]
     },
     "execution_count": 124,
     "metadata": {},
     "output_type": "execute_result"
    }
   ],
   "source": [
    "import asyncio\n",
    "\n",
    "async def get_llm_raw():\n",
    "    async with httpx.AsyncClient(timeout=180) as client:\n",
    "        resp = await client.post(DEEPINFRA_CHAT_URL,\n",
    "                                 json=payload,\n",
    "                                 headers=headers)\n",
    "        return resp.json()\n",
    "\n",
    "data = await get_llm_raw()\n",
    "data\n"
   ]
  },
  {
   "cell_type": "code",
   "execution_count": 125,
   "id": "550bf780",
   "metadata": {},
   "outputs": [
    {
     "data": {
      "text/plain": [
       "\"🎉 You're eager to try out the Voice Time Capsule, aren't you? 😊 Well, I've got the link right here: https://voice-time-capsule-production.up.railway.app/ 👉 Just click on it and you'll be able to send and receive voice messages across time! 🕰️\""
      ]
     },
     "execution_count": 125,
     "metadata": {},
     "output_type": "execute_result"
    }
   ],
   "source": [
    "result = data[\"choices\"][0][\"message\"][\"content\"].strip()\n",
    "result\n"
   ]
  },
  {
   "cell_type": "markdown",
   "id": "3510f525",
   "metadata": {},
   "source": [
    "### clean_llm_output"
   ]
  },
  {
   "cell_type": "code",
   "execution_count": 127,
   "id": "44d6beb2",
   "metadata": {},
   "outputs": [],
   "source": [
    "def clean_llm_output(result):\n",
    "    p1      = re.compile(r'^(\\W+\\s*)?(Final Answer:|Final Response:)\\s*',\n",
    "                         flags=re.IGNORECASE)\n",
    "    p2      = re.compile(r'^[^\\w\\s]+ ')\n",
    "    lines   = result.splitlines()\n",
    "    cleaned = [p2.sub(\"\", p1.sub(\"\", line)).strip() for line in lines]\n",
    "    unique  = dict.fromkeys(filter(None, cleaned))\n",
    "    return \" \".join(unique).strip()"
   ]
  },
  {
   "cell_type": "code",
   "execution_count": 128,
   "id": "e419cad2",
   "metadata": {},
   "outputs": [
    {
     "data": {
      "text/plain": [
       "\"You're eager to try out the Voice Time Capsule, aren't you? 😊 Well, I've got the link right here: https://voice-time-capsule-production.up.railway.app/ 👉 Just click on it and you'll be able to send and receive voice messages across time! 🕰️\""
      ]
     },
     "execution_count": 128,
     "metadata": {},
     "output_type": "execute_result"
    }
   ],
   "source": [
    "clean_llm_output(result)"
   ]
  },
  {
   "cell_type": "code",
   "execution_count": null,
   "id": "59dfd75a",
   "metadata": {},
   "outputs": [],
   "source": []
  },
  {
   "cell_type": "code",
   "execution_count": null,
   "id": "5f10649a",
   "metadata": {},
   "outputs": [],
   "source": []
  },
  {
   "cell_type": "code",
   "execution_count": null,
   "id": "0324c35d",
   "metadata": {},
   "outputs": [],
   "source": []
  },
  {
   "cell_type": "code",
   "execution_count": null,
   "id": "9b030f05",
   "metadata": {},
   "outputs": [],
   "source": []
  }
 ],
 "metadata": {
  "kernelspec": {
   "display_name": ".venv",
   "language": "python",
   "name": "python3"
  },
  "language_info": {
   "codemirror_mode": {
    "name": "ipython",
    "version": 3
   },
   "file_extension": ".py",
   "mimetype": "text/x-python",
   "name": "python",
   "nbconvert_exporter": "python",
   "pygments_lexer": "ipython3",
   "version": "3.9.13"
  }
 },
 "nbformat": 4,
 "nbformat_minor": 5
}
